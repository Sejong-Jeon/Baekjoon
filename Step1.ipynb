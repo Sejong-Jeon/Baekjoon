{
 "cells": [
  {
   "cell_type": "markdown",
   "metadata": {},
   "source": [
    "# 1-1(2557번)\n",
    "문제: Hello World!를 출력하시오.\n",
    "\n",
    "입력: 없음"
   ]
  },
  {
   "cell_type": "code",
   "execution_count": 1,
   "metadata": {},
   "outputs": [
    {
     "name": "stdout",
     "output_type": "stream",
     "text": [
      "Hello World!\n"
     ]
    }
   ],
   "source": [
    "print(\"Hello World!\")"
   ]
  },
  {
   "cell_type": "markdown",
   "metadata": {},
   "source": [
    "# 1-2(10718번)\n",
    "문제: 두 줄에 걸쳐 \"강한친구 대한육군\"을 한 줄에 한 번씩 출력하시오.\n",
    "\n",
    "입력: 없음"
   ]
  },
  {
   "cell_type": "code",
   "execution_count": 2,
   "metadata": {},
   "outputs": [
    {
     "name": "stdout",
     "output_type": "stream",
     "text": [
      "강한친구 대한육군\n",
      "강한친구 대한육군\n"
     ]
    }
   ],
   "source": [
    "print(\"강한친구 대한육군\")\n",
    "print(\"강한친구 대한육군\")\n",
    "#print(\"강한친구 대한육군\\n강한친구 대한육군\")"
   ]
  },
  {
   "cell_type": "markdown",
   "metadata": {},
   "source": [
    "# 1-3(10171번)\n",
    "문제: 아래 예제와 같이 고양이를 출력하시오\n",
    "\n",
    "입력: 없음"
   ]
  },
  {
   "cell_type": "code",
   "execution_count": 3,
   "metadata": {},
   "outputs": [
    {
     "name": "stdout",
     "output_type": "stream",
     "text": [
      "\\   /\\\n",
      " ) ( ')\n",
      "(  /  )\n",
      " \\(__)|\n"
     ]
    }
   ],
   "source": [
    "print(\"\\\\   /\\\\\\n ) ( ')\\n(  /  )\\n \\\\(__)|\")"
   ]
  },
  {
   "cell_type": "markdown",
   "metadata": {},
   "source": [
    "# 1-4(10172번)\n",
    "문제: 아래 예제와 같이 개를 출력하시오\n",
    "\n",
    "입력: 없음"
   ]
  },
  {
   "cell_type": "code",
   "execution_count": 4,
   "metadata": {},
   "outputs": [
    {
     "name": "stdout",
     "output_type": "stream",
     "text": [
      "|\\_/|\n",
      "|q p|    /}\n",
      "( 0 )\"\"\"\\\n",
      "\"^\"\"`    |\n",
      "||_/=\\\\__|\n"
     ]
    }
   ],
   "source": [
    "print('|\\\\_/|\\n|q p|    /}\\n( 0 )\"\"\"\\\\\\n\"^\"\"`    |\\n||_/=\\\\\\\\__|')"
   ]
  },
  {
   "cell_type": "markdown",
   "metadata": {},
   "source": [
    "# 1-5(1000번)\n",
    "문제: 두 정수 A와 B를 입력받은 다음, A+B를 출력하는 프로그램을 작성하시오.\n",
    "\n",
    "입력: 첫째 줄에 A와 B가 주어진다.(0 < A, B < 10)\n",
    "\n",
    "출력: 첫째 줄에 A+B를 출력한다"
   ]
  },
  {
   "cell_type": "code",
   "execution_count": 5,
   "metadata": {},
   "outputs": [
    {
     "name": "stdout",
     "output_type": "stream",
     "text": [
      "1 2\n",
      "3\n"
     ]
    }
   ],
   "source": [
    "a, b = map(int, input().split())\n",
    "print(a+b)"
   ]
  },
  {
   "cell_type": "markdown",
   "metadata": {},
   "source": [
    "# 1-6(1001번)\n",
    "문제: 두 정수 A와 B를 입력받은 다음, A-B를 출력하는 프로그램을 작성하시오\n",
    "\n",
    "입력: 첫째 줄에 A와 B가 주어진다.(0 < A, B < 10)\n",
    "\n",
    "출력: 첫째 줄에 A-B를 출력한다."
   ]
  },
  {
   "cell_type": "code",
   "execution_count": 6,
   "metadata": {},
   "outputs": [
    {
     "name": "stdout",
     "output_type": "stream",
     "text": [
      "3 2\n",
      "1\n"
     ]
    }
   ],
   "source": [
    "a, b = map(int, input().split())\n",
    "print(a-b)"
   ]
  },
  {
   "cell_type": "markdown",
   "metadata": {},
   "source": [
    "# 1-7(10998번)\n",
    "문제: 두 정수 A와 B를 입력받은 다음, A*B를 출력하는 프로그램을 작성하시오\n",
    "\n",
    "입력: 첫째 줄에 A와 B가 주어진다.(0 < A, B < 10)\n",
    "\n",
    "출력: 첫째 줄에 A*B를 출력한다."
   ]
  },
  {
   "cell_type": "code",
   "execution_count": 7,
   "metadata": {},
   "outputs": [
    {
     "name": "stdout",
     "output_type": "stream",
     "text": [
      "1 2\n",
      "2\n"
     ]
    }
   ],
   "source": [
    "a, b = map(int, input().split())\n",
    "print(a*b)"
   ]
  },
  {
   "cell_type": "markdown",
   "metadata": {},
   "source": [
    "# 1-8(1008번)\n",
    "문제: 두 정수 A와 B를 입력받은 다음,A/B를 출력하는 프로그램을 작성하시오.\n",
    "\n",
    "입력: 첫째 줄에 A와 B가 주어진다.(0 < A, B < 10)\n",
    "\n",
    "출력: 첫째 줄에 A/B를 출력한다."
   ]
  },
  {
   "cell_type": "code",
   "execution_count": 8,
   "metadata": {},
   "outputs": [
    {
     "name": "stdout",
     "output_type": "stream",
     "text": [
      "1 3\n",
      "0.3333333333333333\n"
     ]
    }
   ],
   "source": [
    "a, b = map(int, input().split())\n",
    "print(a/b)"
   ]
  },
  {
   "cell_type": "markdown",
   "metadata": {},
   "source": [
    "# 1-9(10869번)\n",
    "문제: 두 자연수 A와B가 주어진다. 이때, A+B, A-B, A*B, A/B(몫), A%B(나머지를) 출력하는 프로그램을 작성하시오.\n",
    "\n",
    "입력: 두 자연수 A와 B가 주어진다.(1 <=A, B <=10,000)\n",
    "\n",
    "출력: 첫재 줄에 A+B, 둘째 줄에 A-B, 셋째 줄에 A*B, 넷째줄에 A/B, 다섯째 줄에 A%B를 출력한다."
   ]
  },
  {
   "cell_type": "code",
   "execution_count": 9,
   "metadata": {},
   "outputs": [
    {
     "name": "stdout",
     "output_type": "stream",
     "text": [
      "7 3\n",
      "10\n",
      "4\n",
      "21\n",
      "2.3333333333333335\n",
      "1\n"
     ]
    }
   ],
   "source": [
    "a, b = map(int, input().split())\n",
    "print(a+b)\n",
    "print(a-b)\n",
    "print(a*b)\n",
    "print(a/b)\n",
    "print(a%b)"
   ]
  },
  {
   "cell_type": "markdown",
   "metadata": {},
   "source": [
    "# 1-10(10430번)\n",
    "문제: (A+B)%C는 ((A%C) + (B%C))%C 와 같을까? \n",
    "\n",
    "      (A×B)%C는 ((A%C) × (B%C))%C 와 같을까?\n",
    "\n",
    "      세 수 A, B, C가 주어졌을 때, 위의 네 가지 값을 구하는 프로그램을 작성하시오.\n",
    "\n",
    "입력: 첫째 줄에 A, B, C가 순서대로 주어진다.(2 <= A, B, C <=10000)\n",
    "\n",
    "출력: 첫째 줄에(A+B)%C, 둘째 줄에 ((A%C) + (B%C))%C, 셋째 줄에 (A*B)%C, 넷째 줄에 ((A%C) * (B%C))%C를 출력한다."
   ]
  },
  {
   "cell_type": "code",
   "execution_count": 10,
   "metadata": {},
   "outputs": [
    {
     "name": "stdout",
     "output_type": "stream",
     "text": [
      "5 8 4\n",
      "1\n",
      "1\n",
      "0\n",
      "0\n"
     ]
    }
   ],
   "source": [
    "a, b, c = map(int, input().split())\n",
    "print((a+b)%c)\n",
    "print(((a%c)+(b%c))%c)\n",
    "print((a*b)%c)\n",
    "print(((a%c)*(b%c))%c)"
   ]
  },
  {
   "cell_type": "markdown",
   "metadata": {},
   "source": [
    "# 1-11(2588번)\n",
    "문제: (세 자리 수)*(세 자리 수)는 다음과 같은 과정을 통하여 이루어진다.\n",
    "\n",
    "     472 ....(1)\n",
    "     \n",
    "    x385 ....(2)\n",
    "____\n",
    "\n",
    "    2360 ....(3)\n",
    "    \n",
    "    37760  ....(4)\n",
    "   \n",
    "    141600   ....(5)  \n",
    "____\n",
    "\n",
    "    181720 ....(6)\n",
    "\n",
    "입력: (1)과 (2)위치에 들어갈 세 자리 자연수가, 둘째 줄에(2)의 위치에 들어갈 세자리 자연수가 주어진다.\n",
    "\n",
    "출력: 첫째 줄부터 넷째 줄까지 차례대로 (3), (4), (5), (6)에 들어갈 값을 출력한다."
   ]
  },
  {
   "cell_type": "code",
   "execution_count": 11,
   "metadata": {},
   "outputs": [
    {
     "name": "stdout",
     "output_type": "stream",
     "text": [
      "472 385\n",
      "2360 \n",
      " 3776 \n",
      " 1416 \n",
      " 181720\n"
     ]
    }
   ],
   "source": [
    "a,b = map(str, input().split())\n",
    "num1 = int(b[2])*int(a)\n",
    "num2 = int(b[1])*int(a)\n",
    "num3 = int(b[0])*int(a)\n",
    "num4 = num1+(10*num2)+(100*num3)\n",
    "print(num1,\"\\n\",num2,\"\\n\",num3,\"\\n\",num4)"
   ]
  }
 ],
 "metadata": {
  "kernelspec": {
   "display_name": "Python 3",
   "language": "python",
   "name": "python3"
  },
  "language_info": {
   "codemirror_mode": {
    "name": "ipython",
    "version": 3
   },
   "file_extension": ".py",
   "mimetype": "text/x-python",
   "name": "python",
   "nbconvert_exporter": "python",
   "pygments_lexer": "ipython3",
   "version": "3.7.3"
  }
 },
 "nbformat": 4,
 "nbformat_minor": 2
}
