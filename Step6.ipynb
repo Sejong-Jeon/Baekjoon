{
 "cells": [
  {
   "cell_type": "markdown",
   "metadata": {},
   "source": [
    "# 6-1(15596번)\n",
    "문제: 정수 n개가 주어졌을 때, n개의 합을 구하는 함수를 작성하시오. 작성해야 하는 함수는 다음과 같다.\n",
    "a : 합을 구해야 하는 정수 n개가 저장되어 있는 배열 (0 <= a[i] <= 1,00,000, 1 <= n <= 3,000,000)\n",
    "리턴값 : a에 포함되어 있는 정수 n 개의 합"
   ]
  },
  {
   "cell_type": "code",
   "execution_count": 4,
   "metadata": {},
   "outputs": [
    {
     "name": "stdout",
     "output_type": "stream",
     "text": [
      "5 5 10\n",
      "20\n"
     ]
    }
   ],
   "source": [
    "def add(a):   \n",
    "    return sum(a)\n",
    "\n",
    "print(add(list(map(int, input().split()))))"
   ]
  },
  {
   "cell_type": "markdown",
   "metadata": {},
   "source": [
    "# 6-2(4673번)\n",
    "문제: 셀프 넘버는 1949년 인도 수학자 D.R. Kaprekar가 이름 붙였다. 양의 정수 n에 대해서 d(n)을 n과 n의 각 자리수를 더하는 함수라고 정의하자. 예를들어, d(75) = 75+7+5 = 87이다. \n",
    "\n",
    "양의정수 n이 주어졌을 때, 이 수를 시작해서 n; d(n), d(d(n)), ...과 같은 무한 수열을 만들 수 있다.\n",
    "\n",
    "예를 들어, 33으로 시작한다면 다음수는 33+3+3=39이고, 그 다음 수는 39+3+9=51, 다음 수는 51+5+1=57이다. 이런식으로 다음과 같은 수열을 만들 수 있다.\n",
    "\n",
    "33, 39, 51, 69, 84, 96, 111, 114, 120, 123, 129, 141, ...\n",
    "\n",
    "n을 d(n)의 생성자라고 한다. 위의 수열에서 33은 39의 생성자이고, 39는 51의 생성자, 51은 57의 생성자이다. 생성자가 한 개보다 많은 경우도 있다, 예를 들어, 101은 생성자가 2개(91과100)있다.\n",
    "\n",
    "생성자가 없는 숫자를 셀프 넘버라고 한다. 100보다 작은 셀프 넘버는 총 13개가 있다. 1,3,5,7,9,20,31,42,53,64,75,86,97 10000보다 작거나 같은 셀프 넘버를 한 줄에 하나씩 출력하는 프로그램을 작성하시오.\n",
    "\n",
    "입력: 없음\n",
    "\n",
    "출력: 10000보다 적거나 같은 셀프 넘버를 한 줄에 하나씩 증가하는 순서로 출력한다."
   ]
  },
  {
   "cell_type": "code",
   "execution_count": 9,
   "metadata": {},
   "outputs": [
    {
     "name": "stdout",
     "output_type": "stream",
     "text": [
      "127\n"
     ]
    }
   ],
   "source": [
    "num=122\n",
    "num = num + sum(map(int,str(num)))\n",
    "print(num)"
   ]
  },
  {
   "cell_type": "code",
   "execution_count": null,
   "metadata": {},
   "outputs": [],
   "source": []
  }
 ],
 "metadata": {
  "kernelspec": {
   "display_name": "Python 3",
   "language": "python",
   "name": "python3"
  },
  "language_info": {
   "codemirror_mode": {
    "name": "ipython",
    "version": 3
   },
   "file_extension": ".py",
   "mimetype": "text/x-python",
   "name": "python",
   "nbconvert_exporter": "python",
   "pygments_lexer": "ipython3",
   "version": "3.7.3"
  }
 },
 "nbformat": 4,
 "nbformat_minor": 2
}
